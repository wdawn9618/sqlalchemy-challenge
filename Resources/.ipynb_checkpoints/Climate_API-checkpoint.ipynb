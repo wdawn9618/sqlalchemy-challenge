{
 "cells": [
  {
   "cell_type": "code",
   "execution_count": null,
   "id": "f7a9e845-ffa2-4fb0-8fd1-ded84de5bbf5",
   "metadata": {},
   "outputs": [],
   "source": [
    "from flask import Flask, jsonify"
   ]
  },
  {
   "cell_type": "code",
   "execution_count": null,
   "id": "017708e3-ad60-4d42-92c3-068e490d77a9",
   "metadata": {},
   "outputs": [],
   "source": [
    "import numpy as np\n",
    "import datetime as dt"
   ]
  },
  {
   "cell_type": "code",
   "execution_count": null,
   "id": "29237a6e-91f6-4bc6-8896-bbdba65613e6",
   "metadata": {},
   "outputs": [],
   "source": [
    "import sqlalchemy\n",
    "from sqlalchemy.ext.automap import automap_base\n",
    "from sqlalchemy.orm import Session\n",
    "from sqlalchemy import create_engine, func\n",
    "from sqlalchemy.pool import StaticPool"
   ]
  },
  {
   "cell_type": "code",
   "execution_count": null,
   "id": "3303f84b-5a72-4834-bbbb-a1d655096137",
   "metadata": {},
   "outputs": [],
   "source": [
    "engine = create_engine(\"sqlite:///Resources/hawaii.sqlite\")"
   ]
  },
  {
   "cell_type": "code",
   "execution_count": null,
   "id": "1ce47e76-0ed1-47fb-ab24-4bfca420a291",
   "metadata": {},
   "outputs": [],
   "source": [
    "Base = automap_base()"
   ]
  },
  {
   "cell_type": "code",
   "execution_count": null,
   "id": "029225c1-dee2-4718-b486-a3db1c5ee186",
   "metadata": {},
   "outputs": [],
   "source": [
    "Base.prepare(engine, reflect=True)"
   ]
  },
  {
   "cell_type": "code",
   "execution_count": null,
   "id": "ed1cdd59-b377-4aaf-bd73-a15549333b18",
   "metadata": {},
   "outputs": [],
   "source": [
    "Measure = Base.classes.measurement\n",
    "Stat = Base.clases.station"
   ]
  },
  {
   "cell_type": "code",
   "execution_count": null,
   "id": "7a421b0f-cb88-4d7e-9652-93eb2ed5f609",
   "metadata": {},
   "outputs": [],
   "source": [
    "session = Session(engine)"
   ]
  },
  {
   "cell_type": "code",
   "execution_count": null,
   "id": "79ae5f47-e8e7-471d-afd1-adaad1c77963",
   "metadata": {},
   "outputs": [],
   "source": [
    "route = Flask(_name_)"
   ]
  },
  {
   "cell_type": "code",
   "execution_count": null,
   "id": "37691bc0-eb16-4b68-b2de-84d678f801be",
   "metadata": {},
   "outputs": [],
   "source": [
    "#Home Page\n",
    "@app.route(\"/\")\n",
    "def home():\n",
    "    \"\"\"List All Available API Routes\"\"\"\n",
    "    return(\n",
    "        f\"Available Routes:<br/>\"\n",
    "        f\"/api/v1.0/precipitation<br/>\"\n",
    "        f\"/api/v1.0/stations<br/>\"\n",
    "        f\"/api/v1.0/tobs<br/>\"\n",
    "        f\"/api/v1.0/2017-06-20<br/>\"\n",
    "        f\"/api/v1.0/2017-06-20/2017-06-28\"\n",
    "    )"
   ]
  },
  {
   "cell_type": "code",
   "execution_count": null,
   "id": "6708e0ad-1770-489a-b341-ecf177e99000",
   "metadata": {},
   "outputs": [],
   "source": [
    "#Precipitation Route\n",
    "@app.route(\"/api/v1.0/precipitation\")\n",
    "def precipitation():\n",
    "        prior_year = dt.date(2017,8,23) - dt.timedelta(days=365)\n",
    "        precip_data = session.query(Measure.date, Measure.prcp).\\\n",
    "            filter(Measure.date >= prior_year).orderby(Measure.date).all()\n",
    "        precip_dict = dict(precip_data)\n",
    "        return jsonify(precip_dict)\n",
    "    "
   ]
  },
  {
   "cell_type": "code",
   "execution_count": null,
   "id": "1dc851dc-59ae-4003-8d67-6d6e221c7ac7",
   "metadata": {},
   "outputs": [],
   "source": [
    "#Station Route\n",
    "@app.route(\"/api/v1.0/stations\")\n",
    "def stations():\n",
    "    stat_list = session.query(Stat.station, Stat.name).all()\n",
    "    stations_list = list(stat_list)\n",
    "    return jsonify(stations_list)"
   ]
  },
  {
   "cell_type": "code",
   "execution_count": null,
   "id": "cadbdc88-56db-4aa5-88e0-f8229165a218",
   "metadata": {},
   "outputs": [],
   "source": [
    "#TOBS Route\n",
    "@app.route(\"/api/v1.0/tobs\")\n",
    "def tobs():\n",
    "        prior_year = dt.date(2017,8,23) - dt.timedelta(days=365)\n",
    "        tobs = session.query(Measure.date, Measure.tobs).\\\n",
    "                filter(Measure.date >= prior_year).\\\n",
    "                order_by(Measure.date).all()\n",
    "        tobs_list = list(tobs)\n",
    "        \n",
    "        return jsonify(tobs_list)"
   ]
  },
  {
   "cell_type": "code",
   "execution_count": null,
   "id": "39e886f4-0a16-41b9-9fa9-7aa4c412e132",
   "metadata": {},
   "outputs": [],
   "source": [
    "#Start Routes\n",
    "@app.route(\"/api/v1.0/<start>\")\n",
    "def start_route(start):\n",
    "        start_route = session.query(Measure.date, func.min(Measure.tobs), func.avg(Measure.tobs), func.max(Measure.tobs)).\\\n",
    "                filter(Measure.date >= start).\\\n",
    "                group_by(Measure.date).all()\n",
    "        start_list = list(start_route)\n",
    "        return jsonify(start_list)"
   ]
  },
  {
   "cell_type": "code",
   "execution_count": null,
   "id": "1693830c-ad7b-40db-9dee-2f128e3070e3",
   "metadata": {},
   "outputs": [],
   "source": [
    "#End Routes\n"
   ]
  },
  {
   "cell_type": "code",
   "execution_count": null,
   "id": "f74a87c7-622d-4edb-abf6-65c37fde72d3",
   "metadata": {},
   "outputs": [],
   "source": [
    "#Start Routes\n",
    "@app.route(\"/api/v1.0/<start>/<end>\")\n",
    "def end_route(start, end):\n",
    "        end_route = session.query(Measure.date, func.min(Measure.tobs), func.avg(Measure.tobs), func.max(Measure.tobs)).\\\n",
    "                filter(Measure.date >= start).\\\n",
    "                filter(Measure.date <= end).\\\n",
    "                group_by(Measure.date).all()\n",
    "        end_list = list(end_route)\n",
    "        return jsonify(end_list)"
   ]
  },
  {
   "cell_type": "code",
   "execution_count": null,
   "id": "783bf864-d628-43e4-8087-df801192b7cf",
   "metadata": {},
   "outputs": [],
   "source": [
    "if __name__ == '__main__':\n",
    "    app.run(debug=True)"
   ]
  },
  {
   "cell_type": "code",
   "execution_count": null,
   "id": "3fbbeb5a-8a6c-44ba-85b2-12020fdc5298",
   "metadata": {},
   "outputs": [],
   "source": []
  }
 ],
 "metadata": {
  "kernelspec": {
   "display_name": "Python 3",
   "language": "python",
   "name": "python3"
  },
  "language_info": {
   "codemirror_mode": {
    "name": "ipython",
    "version": 3
   },
   "file_extension": ".py",
   "mimetype": "text/x-python",
   "name": "python",
   "nbconvert_exporter": "python",
   "pygments_lexer": "ipython3",
   "version": "3.8.8"
  }
 },
 "nbformat": 4,
 "nbformat_minor": 5
}
